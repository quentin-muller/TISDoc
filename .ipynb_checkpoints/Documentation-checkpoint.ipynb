{
 "cells": [
  {
   "cell_type": "code",
   "execution_count": 1,
   "metadata": {},
   "outputs": [],
   "source": [
    "import os\n",
    "import inspect\n",
    "from inspect import getmembers, isfunction\n",
    "from sys import path\n",
    "import codecs"
   ]
  },
  {
   "cell_type": "code",
   "execution_count": 2,
   "metadata": {},
   "outputs": [],
   "source": [
    "#Importation de la librairie\n",
    "path.append(\"../\") #Chemin de la librairie\n",
    "import TIS # Nom de la librairie ici"
   ]
  },
  {
   "cell_type": "code",
   "execution_count": 3,
   "metadata": {},
   "outputs": [
    {
     "name": "stdout",
     "output_type": "stream",
     "text": [
      " Fonction :  applyLUT\n",
      " Fonction :  computeCumulativeHisto\n",
      " Fonction :  find_nearest\n",
      " Fonction :  halfToning\n",
      " Fonction :  imgLevelAdjust\n",
      " Fonction :  showHistogram\n",
      " Fonction :  showImage\n"
     ]
    }
   ],
   "source": [
    "#Paramètres du fichier\n",
    "title = \"Librarie TIS\"\n",
    "author = \"Sébastien\"\n",
    "\n",
    "\n",
    "f = codecs.open(\"parameters.tex\", \"w\", \"utf-8\")\n",
    "f.write(\"\\\\title{%s}\\n\\\\author{%s}\" % (title, author))\n",
    "f.close()\n",
    "\n",
    "\n",
    "f = codecs.open(\"doc.tex\", \"w\", \"utf-8\")\n",
    "\n",
    "members = getmembers(TIS, isfunction)\n",
    "for m in members:\n",
    "    name = m[0]\n",
    "    \n",
    "    command = \"TIS.%s.__doc__\" % name \n",
    "    docstring = eval(command)\n",
    "    #print(command)\n",
    "    print(\" Fonction : \", name)\n",
    "    #print(docstring)\n",
    "    #Ecriture Latex\n",
    "    f.write(\"\\\\section{%s}\\n\" % name.replace(\"_\", \"\\_\"))\n",
    "    #f.write(\"\\\\subsection{\\\\verb!%s!}\\n\" % name)\n",
    "    if(not docstring is None):\n",
    "        f.write(\"\\\\begin{lstlisting}[style=docstringstyle]\\n%s\\n\\\\end{lstlisting}\\n\" % docstring)\n",
    "    else:\n",
    "        f.write(\"Pas de docstring\\n\")\n",
    "f.close()"
   ]
  },
  {
   "cell_type": "code",
   "execution_count": 4,
   "metadata": {},
   "outputs": [
    {
     "data": {
      "text/plain": [
       "0"
      ]
     },
     "execution_count": 4,
     "metadata": {},
     "output_type": "execute_result"
    }
   ],
   "source": [
    "#Compilation du fichier LaTex\n",
    "os.system(\"pdflatex documentation.tex\")"
   ]
  },
  {
   "cell_type": "code",
   "execution_count": null,
   "metadata": {},
   "outputs": [],
   "source": []
  }
 ],
 "metadata": {
  "kernelspec": {
   "display_name": "Python 3",
   "language": "python",
   "name": "python3"
  },
  "language_info": {
   "codemirror_mode": {
    "name": "ipython",
    "version": 3
   },
   "file_extension": ".py",
   "mimetype": "text/x-python",
   "name": "python",
   "nbconvert_exporter": "python",
   "pygments_lexer": "ipython3",
   "version": "3.8.3"
  }
 },
 "nbformat": 4,
 "nbformat_minor": 4
}
